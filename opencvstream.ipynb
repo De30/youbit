{
 "cells": [
  {
   "cell_type": "code",
   "execution_count": 6,
   "metadata": {},
   "outputs": [
    {
     "name": "stdout",
     "output_type": "stream",
     "text": [
      "(1920, 1080)\n",
      "[[146   7 129 ...  96 170 111]\n",
      " [ 78   2  52 ...   2 254  88]\n",
      " [156 254 143 ...  48 103 182]\n",
      " ...\n",
      " [149  83 216 ...  15  40  56]\n",
      " [ 79 160  25 ... 170 109 191]\n",
      " [ 44  83 224 ... 157 134  95]]\n"
     ]
    }
   ],
   "source": [
    "import numpy as np\n",
    "\n",
    "\n",
    "arr = np.random.randint(0,255, size=(1920,1080), dtype=np.uint8)\n",
    "print(arr.shape)\n",
    "print(arr)"
   ]
  },
  {
   "cell_type": "code",
   "execution_count": 3,
   "metadata": {},
   "outputs": [
    {
     "data": {
      "text/plain": [
       "0"
      ]
     },
     "execution_count": 3,
     "metadata": {},
     "output_type": "execute_result"
    }
   ],
   "source": [
    "import cv2\n",
    "import numpy as np\n",
    "import ffmpeg\n",
    "\n",
    "process = (\n",
    "    ffmpeg\n",
    "        .input('pipe:', format='rawvideo', pix_fmt='gray', s='1920x1080')\n",
    "        .output('OUTPUT.mp4', pix_fmt='gray', vcodec='libx265', r=1)\n",
    "        .overwrite_output()\n",
    "        .run_async(pipe_stdin=True)\n",
    ")\n",
    "for i in range(100):\n",
    "    arr = np.random.randint(0,255, size=(1920,1080), dtype=np.uint8)\n",
    "    process.stdin.write(arr.tobytes())\n",
    "process.stdin.close()\n",
    "process.wait()\n",
    "\n"
   ]
  }
 ],
 "metadata": {
  "interpreter": {
   "hash": "61a22412fb14e64378826e8bf0159a19930604b9c46a0807569b25d42c0c2173"
  },
  "kernelspec": {
   "display_name": "Python 3.9.9 ('YouBit-kGhUhAnr')",
   "language": "python",
   "name": "python3"
  },
  "language_info": {
   "codemirror_mode": {
    "name": "ipython",
    "version": 3
   },
   "file_extension": ".py",
   "mimetype": "text/x-python",
   "name": "python",
   "nbconvert_exporter": "python",
   "pygments_lexer": "ipython3",
   "version": "3.9.9"
  },
  "orig_nbformat": 4
 },
 "nbformat": 4,
 "nbformat_minor": 2
}
