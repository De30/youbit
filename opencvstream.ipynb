{
 "cells": [
  {
   "cell_type": "code",
   "execution_count": 6,
   "metadata": {},
   "outputs": [
    {
     "name": "stdout",
     "output_type": "stream",
     "text": [
      "(1920, 1080)\n",
      "[[146   7 129 ...  96 170 111]\n",
      " [ 78   2  52 ...   2 254  88]\n",
      " [156 254 143 ...  48 103 182]\n",
      " ...\n",
      " [149  83 216 ...  15  40  56]\n",
      " [ 79 160  25 ... 170 109 191]\n",
      " [ 44  83 224 ... 157 134  95]]\n"
     ]
    }
   ],
   "source": [
    "import numpy as np\n",
    "\n",
    "\n",
    "arr = np.random.randint(0,255, size=(1920,1080), dtype=np.uint8)\n",
    "print(arr.shape)\n",
    "print(arr)"
   ]
  },
  {
   "cell_type": "code",
   "execution_count": 3,
   "metadata": {},
   "outputs": [
    {
     "data": {
      "text/plain": [
       "0"
      ]
     },
     "execution_count": 3,
     "metadata": {},
     "output_type": "execute_result"
    }
   ],
   "source": [
    "import cv2\n",
    "import numpy as np\n",
    "import ffmpeg\n",
    "import time\n",
    "\n",
    "\n",
    "# process = (\n",
    "#     ffmpeg\n",
    "#         .input('pipe:', format='rawvideo', pix_fmt='gray', s='1920x1080', r=1)\n",
    "#         .output('OUTPUT.mp4', pix_fmt='gray', vcodec='libx265', r=1)\n",
    "#         .overwrite_output()\n",
    "#         .run_async(pipe_stdin=True)\n",
    "# )\n",
    "\n",
    "# # for i in range(100):\n",
    "# #     arr = np.random.randint(0,255, size=(1920,1080), dtype=np.uint8)\n",
    "# #     process.stdin.write(arr)\n",
    "\n",
    "# arr = np.random.randint(0,256, size=20736000, dtype=np.uint8)\n",
    "# process.stdin.write(arr)\n",
    "\n",
    "# process.stdin.close()\n",
    "# process.wait()\n",
    "\n",
    "\n",
    "\n",
    "bin = np.fromfile(str(file), dtype=np.uint8)\n",
    "bin = np.unpackbits(bin).reshape(-1,1)\n",
    "framesize = 259200\n",
    "\n",
    "filler_bytes = framesize - (bin.size // framesize)\n",
    "if filler_bytes != 0:\n",
    "    zeros = np.zeros(filler_bytes, dtype=np.uint8)\n",
    "    bin = np.append(bin, zeros)\n",
    "    del zeros\n",
    "\n",
    "process = (\n",
    "    ffmpeg\n",
    "        .input('pipe:', format='rawvideo', pix_fmt='gray', s='1920x1080', r=1)\n",
    "        .output('OUTPUT.mp4', pix_fmt='gray', vcodec='libx265', r=1)\n",
    "        .overwrite_output()\n",
    "        .run_async(pipe_stdin=True)\n",
    ")\n",
    "process.stdin.write(bin)\n",
    "process.stdin.close()\n",
    "process.wait()\n"
   ]
  },
  {
   "cell_type": "code",
   "execution_count": 7,
   "metadata": {},
   "outputs": [
    {
     "data": {
      "text/plain": [
       "0"
      ]
     },
     "execution_count": 7,
     "metadata": {},
     "output_type": "execute_result"
    }
   ],
   "source": [
    "import subprocess\n",
    "from pathlib import Path\n",
    "\n",
    "\n",
    "file = Path('C:/dev/youbit/OUTPUT.mp4')\n",
    "cmd = \"ffmpeg -i {} -r 1/1 {}/frame%d.png\".format(str(file), str(file.parent))\n",
    "subprocess.Popen(cmd, shell=True).wait()"
   ]
  }
 ],
 "metadata": {
  "interpreter": {
   "hash": "809c6551942a648078c4216a69fcde21a547d2bed7168e2fcf26bb79c4484452"
  },
  "kernelspec": {
   "display_name": "Python 3.9.9 ('youbit-ytXIQI_K')",
   "language": "python",
   "name": "python3"
  },
  "language_info": {
   "codemirror_mode": {
    "name": "ipython",
    "version": 3
   },
   "file_extension": ".py",
   "mimetype": "text/x-python",
   "name": "python",
   "nbconvert_exporter": "python",
   "pygments_lexer": "ipython3",
   "version": "3.9.9"
  },
  "orig_nbformat": 4
 },
 "nbformat": 4,
 "nbformat_minor": 2
}
