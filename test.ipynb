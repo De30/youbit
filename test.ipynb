{
 "cells": [
  {
   "cell_type": "code",
   "execution_count": 3,
   "metadata": {},
   "outputs": [
    {
     "name": "stdout",
     "output_type": "stream",
     "text": [
      "8425017344 724414464 724414464\n"
     ]
    }
   ],
   "source": [
    "import psutil\n",
    "\n",
    "mem = psutil.virtual_memory()\n",
    "\n",
    "print(mem.total, mem.available, mem.free)\n"
   ]
  },
  {
   "cell_type": "code",
   "execution_count": 8,
   "metadata": {},
   "outputs": [
    {
     "ename": "TypeError",
     "evalue": "No matching definition for argument type(s) array(int32, 2d, C), int64",
     "output_type": "error",
     "traceback": [
      "\u001b[1;31m---------------------------------------------------------------------------\u001b[0m",
      "\u001b[1;31mTypeError\u001b[0m                                 Traceback (most recent call last)",
      "\u001b[1;32me:\\dev\\youbit\\test.ipynb Cell 2'\u001b[0m in \u001b[0;36m<module>\u001b[1;34m\u001b[0m\n\u001b[0;32m     <a href='vscode-notebook-cell:/e%3A/dev/youbit/test.ipynb#ch0000008?line=19'>20</a>\u001b[0m             res[j] \u001b[39m+\u001b[39m\u001b[39m=\u001b[39m \u001b[39mbool\u001b[39m(packed[i, j\u001b[39m/\u001b[39m\u001b[39m/\u001b[39m\u001b[39m8\u001b[39m] \u001b[39m&\u001b[39m (\u001b[39m128\u001b[39m\u001b[39m>>\u001b[39m(j\u001b[39m%\u001b[39m\u001b[39m8\u001b[39m)))\n\u001b[0;32m     <a href='vscode-notebook-cell:/e%3A/dev/youbit/test.ipynb#ch0000008?line=20'>21</a>\u001b[0m     \u001b[39mreturn\u001b[39;00m res\n\u001b[1;32m---> <a href='vscode-notebook-cell:/e%3A/dev/youbit/test.ipynb#ch0000008?line=22'>23</a>\u001b[0m x \u001b[39m=\u001b[39m bitSum(array, \u001b[39m3\u001b[39;49m)\n\u001b[0;32m     <a href='vscode-notebook-cell:/e%3A/dev/youbit/test.ipynb#ch0000008?line=24'>25</a>\u001b[0m \u001b[39mprint\u001b[39m(x)\n",
      "File \u001b[1;32mc:\\Users\\MeViMo\\.virtualenvs\\YouBit-kGhUhAnr\\lib\\site-packages\\numba\\core\\dispatcher.py:703\u001b[0m, in \u001b[0;36m_DispatcherBase._explain_matching_error\u001b[1;34m(self, *args, **kws)\u001b[0m\n\u001b[0;32m    <a href='file:///c%3A/Users/MeViMo/.virtualenvs/YouBit-kGhUhAnr/lib/site-packages/numba/core/dispatcher.py?line=699'>700</a>\u001b[0m args \u001b[39m=\u001b[39m [\u001b[39mself\u001b[39m\u001b[39m.\u001b[39mtypeof_pyval(a) \u001b[39mfor\u001b[39;00m a \u001b[39min\u001b[39;00m args]\n\u001b[0;32m    <a href='file:///c%3A/Users/MeViMo/.virtualenvs/YouBit-kGhUhAnr/lib/site-packages/numba/core/dispatcher.py?line=700'>701</a>\u001b[0m msg \u001b[39m=\u001b[39m (\u001b[39m\"\u001b[39m\u001b[39mNo matching definition for argument type(s) \u001b[39m\u001b[39m%s\u001b[39;00m\u001b[39m\"\u001b[39m\n\u001b[0;32m    <a href='file:///c%3A/Users/MeViMo/.virtualenvs/YouBit-kGhUhAnr/lib/site-packages/numba/core/dispatcher.py?line=701'>702</a>\u001b[0m        \u001b[39m%\u001b[39m \u001b[39m'\u001b[39m\u001b[39m, \u001b[39m\u001b[39m'\u001b[39m\u001b[39m.\u001b[39mjoin(\u001b[39mmap\u001b[39m(\u001b[39mstr\u001b[39m, args)))\n\u001b[1;32m--> <a href='file:///c%3A/Users/MeViMo/.virtualenvs/YouBit-kGhUhAnr/lib/site-packages/numba/core/dispatcher.py?line=702'>703</a>\u001b[0m \u001b[39mraise\u001b[39;00m \u001b[39mTypeError\u001b[39;00m(msg)\n",
      "\u001b[1;31mTypeError\u001b[0m: No matching definition for argument type(s) array(int32, 2d, C), int64"
     ]
    }
   ],
   "source": [
    "from numba import njit\n",
    "import numpy as np\n",
    "\n",
    "\n",
    "array = np.array(\n",
    "    [\n",
    "     [1, 0, 1],   \n",
    "     [1, 1, 1], \n",
    "     [0, 0, 1],    \n",
    "    ]\n",
    ")\n",
    "\n",
    "@njit('int32[::1](uint8[:,::1], int_)')\n",
    "def bitSum(packed, m):\n",
    "    n = packed.shape[0]\n",
    "    assert packed.shape[1]*8-7 <= m <= packed.shape[1]*8\n",
    "    res = np.zeros(m, dtype=np.int32)\n",
    "    for i in range(n):\n",
    "        for j in range(m):\n",
    "            res[j] += bool(packed[i, j//8] & (128>>(j%8)))\n",
    "    return res\n",
    "\n",
    "x = bitSum(array, 3)\n",
    "\n",
    "print(x)"
   ]
  },
  {
   "cell_type": "code",
   "execution_count": 7,
   "metadata": {},
   "outputs": [
    {
     "name": "stdout",
     "output_type": "stream",
     "text": [
      "[255 216 255 225 106  30  69 120 105 102   0   0  77  77   0  42   0   0\n",
      "   0   8   0  13   1   0   0   3   0   0   0   1  17 160   0   0   1   1\n",
      "   0   3   0   0   0   1  23 128   0   0   1  40   0   3]\n",
      "[ True  True  True  True  True  True  True  True  True  True False  True\n",
      "  True False False False  True  True  True  True  True  True  True  True\n",
      "  True  True  True False False False False  True False  True  True False\n",
      "  True False  True False False False False  True  True  True  True False\n",
      " False  True]\n",
      "[21  0 57 84 98 17 23 56 67 71  6 12 47 97 27  2 39 23 11 59 55 98 13 44\n",
      " 79 51 84 78 28 43 25  5 65 55 53 37 95 79 39 42 13 12 96 36 74 65 42 78\n",
      " 41 40]\n",
      "[ True  True  True  True  True  True  True  True  True  True  True  True\n",
      "  True False False False  True  True  True  True  True  True  True  True\n",
      "  True  True  True False False False False  True False  True  True False\n",
      "  True False  True False False False False  True  True  True  True False\n",
      " False  True]\n",
      "[255 248 255 225 106  30  69 120 105 102   0   0  77  77   0  34   0   0\n",
      "   0   8 128  13   1   0   0   3   0   0   0   1  17 160   0   0   1   1\n",
      "   0   3   0   0   0   1  23 128   0   8   1  40   0  19]\n"
     ]
    }
   ],
   "source": [
    "import numpy as np\n",
    "from numba import njit\n",
    "\n",
    "\n",
    "arr = np.fromfile('E:/par/file.jpg', dtype=np.uint8)\n",
    "print(arr[:50])\n",
    "arr = np.unpackbits(arr).astype(np.bool_)\n",
    "\n",
    "\n",
    "\n",
    "idx = np.random.randint(0,100, arr.size, dtype=np.uint8)\n",
    "print(arr[:50])\n",
    "print(idx[:50])\n",
    "\n",
    "@njit('void(bool_[::1], uint8[::1])')\n",
    "def errorrize(arr, idx):\n",
    "    for i in range(arr.size):\n",
    "        if idx[i] == 6:\n",
    "            arr[i] = ~arr[i]\n",
    "\n",
    "errorrize(arr,idx)\n",
    "\n",
    "\n",
    "print(arr[:50])\n",
    "\n",
    "arr = np.packbits(arr)\n",
    "\n",
    "print(arr[:50])\n",
    "\n",
    "arr.tofile('E:/par/file.jpg')\n",
    "\n"
   ]
  },
  {
   "cell_type": "code",
   "execution_count": 6,
   "metadata": {},
   "outputs": [
    {
     "name": "stdout",
     "output_type": "stream",
     "text": [
      "[ 80  65  82  50   0  80  75  84 148  25   0   0   0   0   0   0 227  67\n",
      " 208 209  83  26 186 150  32 226 232  33 178  38  93 175 154  35  68  38\n",
      " 241  51  30  27 193  88 121   1 212  83 103 162  80  65]\n",
      "[False  True False  True False False False False False  True False False\n",
      " False False False  True False  True False  True False False  True False\n",
      " False False  True  True False False  True False False False False False\n",
      " False False False False False  True False  True False False False False\n",
      " False  True]\n",
      "[17 87 52 17 13 44 75 66 90 66 51 86 12 12  9 59 10 80 98 17 37 62 10 85\n",
      " 39 94 90 88 35 43 30 31  9 10 19 84 13 39 61 54 12 22 22 76 69 42 15 12\n",
      " 60 51]\n",
      "[False  True False  True False False False False False  True False False\n",
      " False False False  True False  True False  True False False  True False\n",
      " False False  True  True False False  True False False False False False\n",
      " False False False False False  True False  True False False False False\n",
      " False  True]\n",
      "[ 80  65  82  50   0  80  75  84 148  25   0 128   0   0   0   0 227  67\n",
      " 208 209  83  90 186 158  32 226 232  33 178  38  93 175 154  35  68  38\n",
      " 241  51  30  27 193  88 121   1 212  83 103 162  80  65]\n"
     ]
    }
   ],
   "source": [
    "import numpy as np\n",
    "from numba import njit\n",
    "\n",
    "\n",
    "arr = np.fromfile('E:/par/file.jpg.vol0000+2000.par2', dtype=np.uint8)\n",
    "print(arr[:50])\n",
    "arr = np.unpackbits(arr).astype(np.bool_)\n",
    "\n",
    "\n",
    "\n",
    "idx = np.random.randint(0,100, arr.size, dtype=np.uint8)\n",
    "print(arr[:50])\n",
    "print(idx[:50])\n",
    "\n",
    "@njit('void(bool_[::1], uint8[::1])')\n",
    "def errorrize(arr, idx):\n",
    "    for i in range(arr.size):\n",
    "        if idx[i] == 6:\n",
    "            arr[i] = ~arr[i]\n",
    "\n",
    "errorrize(arr,idx)\n",
    "\n",
    "\n",
    "print(arr[:50])\n",
    "\n",
    "arr = np.packbits(arr)\n",
    "\n",
    "print(arr[:50])\n",
    "\n",
    "arr.tofile('E:/par/file.jpg.vol0000+2000.par2')"
   ]
  }
 ],
 "metadata": {
  "interpreter": {
   "hash": "3fa31eab484be4c52d8c446086d6f38aac6ab37ff6987e913234de178fd297be"
  },
  "kernelspec": {
   "display_name": "Python 3.9.9 ('YouBit-kGhUhAnr')",
   "language": "python",
   "name": "python3"
  },
  "language_info": {
   "codemirror_mode": {
    "name": "ipython",
    "version": 3
   },
   "file_extension": ".py",
   "mimetype": "text/x-python",
   "name": "python",
   "nbconvert_exporter": "python",
   "pygments_lexer": "ipython3",
   "version": "3.9.9"
  },
  "orig_nbformat": 4
 },
 "nbformat": 4,
 "nbformat_minor": 2
}
