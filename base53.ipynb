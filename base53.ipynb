{
 "cells": [
  {
   "cell_type": "code",
   "execution_count": 1,
   "metadata": {},
   "outputs": [
    {
     "name": "stdout",
     "output_type": "stream",
     "text": [
      "b'gASVVwAAAAAAAAB9lCiMA2JwcJRLAYwLZWNjX3N5bWJvbHOUSyCMCnJlc29sdXRpb26UjAkxOTIweDEwODCUjAxvcmlnaW5hbF9NRDWUjA82OTY5Z2FyYmFnZTY5NjmUdS4='\n"
     ]
    }
   ],
   "source": [
    "import pickle\n",
    "import base64\n",
    "import json\n",
    "from youbit.util import dict_to_b64\n",
    "\n",
    "hey = {\n",
    "    'bpp': 1,\n",
    "    'ecc_symbols': 32,\n",
    "    'resolution': '1920x1080',\n",
    "    'original_MD5': '6969garbage6969'\n",
    "}\n",
    "\n",
    "encoded = dict_to_b64(hey)\n",
    "\n",
    "print(encoded)"
   ]
  },
  {
   "cell_type": "code",
   "execution_count": 2,
   "metadata": {},
   "outputs": [
    {
     "name": "stdout",
     "output_type": "stream",
     "text": [
      "{'bpp': 1, 'ecc_symbols': 32, 'resolution': '1920x1080', 'original_MD5': '6969garbage6969'}\n"
     ]
    }
   ],
   "source": [
    "from youbit.util import b64_to_dict\n",
    "\n",
    "\n",
    "x = b64_to_dict('gASVVwAAAAAAAAB9lCiMA2JwcJRLAYwLZWNjX3N5bWJvbHOUSyCMCnJlc29sdXRpb26UjAkxOTIweDEwODCUjAxvcmlnaW5hbF9NRDWUjA82OTY5Z2FyYmFnZTY5NjmUdS4=')\n",
    "\n",
    "print(x)"
   ]
  }
 ],
 "metadata": {
  "kernelspec": {
   "display_name": "Python 3.9.9 ('YouBit-kGhUhAnr')",
   "language": "python",
   "name": "python3"
  },
  "language_info": {
   "codemirror_mode": {
    "name": "ipython",
    "version": 3
   },
   "file_extension": ".py",
   "mimetype": "text/x-python",
   "name": "python",
   "nbconvert_exporter": "python",
   "pygments_lexer": "ipython3",
   "version": "3.9.9"
  },
  "orig_nbformat": 4,
  "vscode": {
   "interpreter": {
    "hash": "3fa31eab484be4c52d8c446086d6f38aac6ab37ff6987e913234de178fd297be"
   }
  }
 },
 "nbformat": 4,
 "nbformat_minor": 2
}
