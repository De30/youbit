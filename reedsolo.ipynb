{
 "cells": [
  {
   "cell_type": "code",
   "execution_count": 19,
   "metadata": {},
   "outputs": [
    {
     "name": "stdout",
     "output_type": "stream",
     "text": [
      "bytearray(b'florian laporte\\xdfrpU\\x1b_\\xa0M\\x08\\t') <class 'bytearray'>\n",
      "bytearray(b'flori\\x05n laporte\\xdfrpU\\x1b_\\xa0M\\x08\\t') <class 'bytearray'>\n",
      "bytearray(b'florian laporte')\n"
     ]
    }
   ],
   "source": [
    "from reedsolo import RSCodec\n",
    "rsc = RSCodec(10)\n",
    "\n",
    "encoded = rsc.encode(b'florian laporte')\n",
    "print(encoded, type(encoded))\n",
    "encoded[5] = 5\n",
    "print(encoded, type(encoded))\n",
    "\n",
    "decoded = rsc.decode(encoded)\n",
    "\n",
    "\n",
    "print(decoded[0])\n"
   ]
  },
  {
   "cell_type": "code",
   "execution_count": 16,
   "metadata": {},
   "outputs": [
    {
     "name": "stdout",
     "output_type": "stream",
     "text": [
      "223\n"
     ]
    },
    {
     "ename": "ValueError",
     "evalue": "range() arg 3 must not be zero",
     "output_type": "error",
     "traceback": [
      "\u001b[1;31m---------------------------------------------------------------------------\u001b[0m",
      "\u001b[1;31mValueError\u001b[0m                                Traceback (most recent call last)",
      "\u001b[1;32me:\\dev\\youbit\\reedsolo.ipynb Cell 2'\u001b[0m in \u001b[0;36m<module>\u001b[1;34m\u001b[0m\n\u001b[0;32m      <a href='vscode-notebook-cell:/e%3A/dev/youbit/reedsolo.ipynb#ch0000001?line=3'>4</a>\u001b[0m y \u001b[39m=\u001b[39m \u001b[39mb\u001b[39m\u001b[39m'\u001b[39m\u001b[39mx\u001b[39m\u001b[39m'\u001b[39m\u001b[39m*\u001b[39m\u001b[39m223\u001b[39m\n\u001b[0;32m      <a href='vscode-notebook-cell:/e%3A/dev/youbit/reedsolo.ipynb#ch0000001?line=4'>5</a>\u001b[0m \u001b[39mprint\u001b[39m(\u001b[39mlen\u001b[39m(y))\n\u001b[1;32m----> <a href='vscode-notebook-cell:/e%3A/dev/youbit/reedsolo.ipynb#ch0000001?line=5'>6</a>\u001b[0m x \u001b[39m=\u001b[39m rsc\u001b[39m.\u001b[39;49mencode(y)\n\u001b[0;32m      <a href='vscode-notebook-cell:/e%3A/dev/youbit/reedsolo.ipynb#ch0000001?line=6'>7</a>\u001b[0m x[\u001b[39m0\u001b[39m] \u001b[39m=\u001b[39m \u001b[39m0\u001b[39m\n\u001b[0;32m      <a href='vscode-notebook-cell:/e%3A/dev/youbit/reedsolo.ipynb#ch0000001?line=7'>8</a>\u001b[0m x[\u001b[39m-\u001b[39m\u001b[39m1\u001b[39m] \u001b[39m=\u001b[39m \u001b[39m0\u001b[39m\n",
      "File \u001b[1;32mc:\\Users\\MeViMo\\.virtualenvs\\YouBit-kGhUhAnr\\lib\\site-packages\\reedsolo.py:892\u001b[0m, in \u001b[0;36mRSCodec.encode\u001b[1;34m(self, data, nsym)\u001b[0m\n\u001b[0;32m    <a href='file:///c%3A/Users/MeViMo/.virtualenvs/YouBit-kGhUhAnr/lib/site-packages/reedsolo.py?line=889'>890</a>\u001b[0m     data \u001b[39m=\u001b[39m _bytearray(data)\n\u001b[0;32m    <a href='file:///c%3A/Users/MeViMo/.virtualenvs/YouBit-kGhUhAnr/lib/site-packages/reedsolo.py?line=890'>891</a>\u001b[0m enc \u001b[39m=\u001b[39m _bytearray()\n\u001b[1;32m--> <a href='file:///c%3A/Users/MeViMo/.virtualenvs/YouBit-kGhUhAnr/lib/site-packages/reedsolo.py?line=891'>892</a>\u001b[0m \u001b[39mfor\u001b[39;00m chunk \u001b[39min\u001b[39;00m \u001b[39mself\u001b[39m\u001b[39m.\u001b[39mchunk(data, \u001b[39mself\u001b[39m\u001b[39m.\u001b[39mnsize \u001b[39m-\u001b[39m \u001b[39mself\u001b[39m\u001b[39m.\u001b[39mnsym):\n\u001b[0;32m    <a href='file:///c%3A/Users/MeViMo/.virtualenvs/YouBit-kGhUhAnr/lib/site-packages/reedsolo.py?line=892'>893</a>\u001b[0m     enc\u001b[39m.\u001b[39mextend(rs_encode_msg(chunk, \u001b[39mself\u001b[39m\u001b[39m.\u001b[39mnsym, fcr\u001b[39m=\u001b[39m\u001b[39mself\u001b[39m\u001b[39m.\u001b[39mfcr, generator\u001b[39m=\u001b[39m\u001b[39mself\u001b[39m\u001b[39m.\u001b[39mgenerator, gen\u001b[39m=\u001b[39m\u001b[39mself\u001b[39m\u001b[39m.\u001b[39mgen[nsym]))\n\u001b[0;32m    <a href='file:///c%3A/Users/MeViMo/.virtualenvs/YouBit-kGhUhAnr/lib/site-packages/reedsolo.py?line=893'>894</a>\u001b[0m \u001b[39mreturn\u001b[39;00m enc\n",
      "File \u001b[1;32mc:\\Users\\MeViMo\\.virtualenvs\\YouBit-kGhUhAnr\\lib\\site-packages\\reedsolo.py:875\u001b[0m, in \u001b[0;36mRSCodec.chunk\u001b[1;34m(self, data, chunksize)\u001b[0m\n\u001b[0;32m    <a href='file:///c%3A/Users/MeViMo/.virtualenvs/YouBit-kGhUhAnr/lib/site-packages/reedsolo.py?line=872'>873</a>\u001b[0m \u001b[39mdef\u001b[39;00m \u001b[39mchunk\u001b[39m(\u001b[39mself\u001b[39m, data, chunksize):\n\u001b[0;32m    <a href='file:///c%3A/Users/MeViMo/.virtualenvs/YouBit-kGhUhAnr/lib/site-packages/reedsolo.py?line=873'>874</a>\u001b[0m     \u001b[39m'''Split a long message into chunks'''\u001b[39;00m\n\u001b[1;32m--> <a href='file:///c%3A/Users/MeViMo/.virtualenvs/YouBit-kGhUhAnr/lib/site-packages/reedsolo.py?line=874'>875</a>\u001b[0m     \u001b[39mfor\u001b[39;00m i \u001b[39min\u001b[39;00m xrange(\u001b[39m0\u001b[39;49m, \u001b[39mlen\u001b[39;49m(data), chunksize):\n\u001b[0;32m    <a href='file:///c%3A/Users/MeViMo/.virtualenvs/YouBit-kGhUhAnr/lib/site-packages/reedsolo.py?line=875'>876</a>\u001b[0m         \u001b[39m# Split the long message in a chunk\u001b[39;00m\n\u001b[0;32m    <a href='file:///c%3A/Users/MeViMo/.virtualenvs/YouBit-kGhUhAnr/lib/site-packages/reedsolo.py?line=876'>877</a>\u001b[0m         chunk \u001b[39m=\u001b[39m data[i:i\u001b[39m+\u001b[39mchunksize]\n\u001b[0;32m    <a href='file:///c%3A/Users/MeViMo/.virtualenvs/YouBit-kGhUhAnr/lib/site-packages/reedsolo.py?line=877'>878</a>\u001b[0m         \u001b[39myield\u001b[39;00m chunk\n",
      "\u001b[1;31mValueError\u001b[0m: range() arg 3 must not be zero"
     ]
    }
   ],
   "source": [
    "from reedsolo import RSCodec\n",
    "rsc = RSCodec(255)\n",
    "\n",
    "y = b'x'*223\n",
    "print(len(y))\n",
    "x = rsc.encode(y)\n",
    "x[0] = 0\n",
    "x[-1] = 0\n",
    "x[-2] = 0\n",
    "x[-3] = 0\n",
    "x[-4] = 0\n",
    "x[-5] = 0\n",
    "x[-6] = 0\n",
    "x[-7] = 0\n",
    "x[1] = 0\n",
    "x[2] = 0\n",
    "x[3] = 0\n",
    "x[4] = 0\n",
    "x[5] = 0\n",
    "x[6] = 0\n",
    "x[7] = 0\n",
    "x[8] = 0\n",
    "\n",
    "\n",
    "print(x, len(x))\n",
    "\n",
    "z = RSCodec(255).decode(x)[0]\n",
    "print(z)\n",
    "print( y == z )\n"
   ]
  },
  {
   "cell_type": "code",
   "execution_count": 62,
   "metadata": {},
   "outputs": [
    {
     "name": "stdout",
     "output_type": "stream",
     "text": [
      "0.12551283836364746\n",
      "390138533\n"
     ]
    }
   ],
   "source": [
    "from youbit.ecc.creedsolo import RSCodec\n",
    "import time\n",
    "rsc = RSCodec(32)\n",
    "\n",
    "with open('E:/biggie.mp4', 'rb') as f_in:\n",
    "    # data = rsc.encode(f_in.read())\n",
    "    while True:\n",
    "        data = f_in.read(223)\n",
    "        if not data:\n",
    "            break\n",
    "        # data = rsc.encode(data)\n",
    "\n",
    "\n",
    "# with open(str(self._original), 'rb') as f_in:\n",
    "#     with gzip.open(str(self._zipped), 'wb') as f_out:\n",
    "#         shutil.copyfileobj(f_in, f_out)\n",
    "\n"
   ]
  },
  {
   "cell_type": "code",
   "execution_count": 2,
   "metadata": {},
   "outputs": [
    {
     "ename": "ModuleNotFoundError",
     "evalue": "No module named 'creedsolo'",
     "output_type": "error",
     "traceback": [
      "\u001b[1;31m---------------------------------------------------------------------------\u001b[0m",
      "\u001b[1;31mModuleNotFoundError\u001b[0m                       Traceback (most recent call last)",
      "\u001b[1;32me:\\dev\\youbit\\reedsolo.ipynb Cell 4'\u001b[0m in \u001b[0;36m<module>\u001b[1;34m\u001b[0m\n\u001b[1;32m----> <a href='vscode-notebook-cell:/e%3A/dev/youbit/reedsolo.ipynb#ch0000004?line=0'>1</a>\u001b[0m \u001b[39mfrom\u001b[39;00m \u001b[39myoubit\u001b[39;00m \u001b[39mimport\u001b[39;00m _encode, util\n\u001b[0;32m      <a href='vscode-notebook-cell:/e%3A/dev/youbit/reedsolo.ipynb#ch0000004?line=1'>2</a>\u001b[0m \u001b[39mfrom\u001b[39;00m \u001b[39mpathlib\u001b[39;00m \u001b[39mimport\u001b[39;00m Path\n\u001b[0;32m      <a href='vscode-notebook-cell:/e%3A/dev/youbit/reedsolo.ipynb#ch0000004?line=2'>3</a>\u001b[0m \u001b[39mimport\u001b[39;00m \u001b[39mtime\u001b[39;00m\n",
      "File \u001b[1;32me:\\dev\\youbit\\youbit\\__init__.py:9\u001b[0m, in \u001b[0;36m<module>\u001b[1;34m\u001b[0m\n\u001b[0;32m      <a href='file:///e%3A/dev/youbit/youbit/__init__.py?line=5'>6</a>\u001b[0m __author__ \u001b[39m=\u001b[39m \u001b[39m\"\u001b[39m\u001b[39mFlorian Laporte\u001b[39m\u001b[39m\"\u001b[39m\n\u001b[0;32m      <a href='file:///e%3A/dev/youbit/youbit/__init__.py?line=6'>7</a>\u001b[0m __license__ \u001b[39m=\u001b[39m \u001b[39m\"\u001b[39m\u001b[39mMIT License\u001b[39m\u001b[39m\"\u001b[39m\n\u001b[1;32m----> <a href='file:///e%3A/dev/youbit/youbit/__init__.py?line=8'>9</a>\u001b[0m \u001b[39mfrom\u001b[39;00m \u001b[39myoubit\u001b[39;00m\u001b[39m.\u001b[39;00m\u001b[39myoubit\u001b[39;00m \u001b[39mimport\u001b[39;00m Encoder, Decoder\n\u001b[0;32m     <a href='file:///e%3A/dev/youbit/youbit/__init__.py?line=9'>10</a>\u001b[0m \u001b[39mimport\u001b[39;00m \u001b[39myoubit\u001b[39;00m\u001b[39m.\u001b[39;00m\u001b[39mencode\u001b[39;00m \u001b[39mas\u001b[39;00m \u001b[39m_encode\u001b[39;00m\n\u001b[0;32m     <a href='file:///e%3A/dev/youbit/youbit/__init__.py?line=10'>11</a>\u001b[0m \u001b[39mimport\u001b[39;00m \u001b[39myoubit\u001b[39;00m\u001b[39m.\u001b[39;00m\u001b[39mdecode\u001b[39;00m \u001b[39mas\u001b[39;00m \u001b[39m_decode\u001b[39;00m\n",
      "File \u001b[1;32me:\\dev\\youbit\\youbit\\youbit.py:23\u001b[0m, in \u001b[0;36m<module>\u001b[1;34m\u001b[0m\n\u001b[0;32m     <a href='file:///e%3A/dev/youbit/youbit/youbit.py?line=19'>20</a>\u001b[0m \u001b[39m# from youbit.automate import Uploader\u001b[39;00m\n\u001b[0;32m     <a href='file:///e%3A/dev/youbit/youbit/youbit.py?line=20'>21</a>\u001b[0m \u001b[39m# from youbit.decode import remove_ecc, extract_frames, extract_binary\u001b[39;00m\n\u001b[0;32m     <a href='file:///e%3A/dev/youbit/youbit/youbit.py?line=21'>22</a>\u001b[0m \u001b[39mfrom\u001b[39;00m \u001b[39myoubit\u001b[39;00m \u001b[39mimport\u001b[39;00m encode, decode, util\n\u001b[1;32m---> <a href='file:///e%3A/dev/youbit/youbit/youbit.py?line=22'>23</a>\u001b[0m \u001b[39mfrom\u001b[39;00m \u001b[39myoubit\u001b[39;00m\u001b[39m.\u001b[39;00m\u001b[39mecc\u001b[39;00m\u001b[39m.\u001b[39;00m\u001b[39mecc\u001b[39;00m \u001b[39mimport\u001b[39;00m ecc_encode, ecc_decode\n\u001b[0;32m     <a href='file:///e%3A/dev/youbit/youbit/youbit.py?line=23'>24</a>\u001b[0m \u001b[39mfrom\u001b[39;00m \u001b[39myoubit\u001b[39;00m\u001b[39m.\u001b[39;00m\u001b[39mvideo\u001b[39;00m \u001b[39mimport\u001b[39;00m VideoDecoder, VideoEncoder\n\u001b[0;32m     <a href='file:///e%3A/dev/youbit/youbit/youbit.py?line=26'>27</a>\u001b[0m \u001b[39mclass\u001b[39;00m \u001b[39mTempdirMixin\u001b[39;00m:\n",
      "File \u001b[1;32me:\\dev\\youbit\\youbit\\ecc\\__init__.py:1\u001b[0m, in \u001b[0;36m<module>\u001b[1;34m\u001b[0m\n\u001b[1;32m----> <a href='file:///e%3A/dev/youbit/youbit/ecc/__init__.py?line=0'>1</a>\u001b[0m \u001b[39mfrom\u001b[39;00m \u001b[39myoubit\u001b[39;00m\u001b[39m.\u001b[39;00m\u001b[39mecc\u001b[39;00m\u001b[39m.\u001b[39;00m\u001b[39mecc\u001b[39;00m \u001b[39mimport\u001b[39;00m ecc_encode, ecc_decode\n\u001b[0;32m      <a href='file:///e%3A/dev/youbit/youbit/ecc/__init__.py?line=1'>2</a>\u001b[0m __all__ \u001b[39m=\u001b[39m [\u001b[39m'\u001b[39m\u001b[39mecc_encode\u001b[39m\u001b[39m'\u001b[39m, \u001b[39m'\u001b[39m\u001b[39mecc_decode\u001b[39m\u001b[39m'\u001b[39m]\n",
      "File \u001b[1;32me:\\dev\\youbit\\youbit\\ecc\\ecc.py:1\u001b[0m, in \u001b[0;36m<module>\u001b[1;34m\u001b[0m\n\u001b[1;32m----> <a href='file:///e%3A/dev/youbit/youbit/ecc/ecc.py?line=0'>1</a>\u001b[0m \u001b[39mfrom\u001b[39;00m \u001b[39mcreedsolo\u001b[39;00m \u001b[39mimport\u001b[39;00m RSCodec\n\u001b[0;32m      <a href='file:///e%3A/dev/youbit/youbit/ecc/ecc.py?line=3'>4</a>\u001b[0m \u001b[39mdef\u001b[39;00m \u001b[39mecc_encode\u001b[39m(data: \u001b[39mbytes\u001b[39m, symbols: \u001b[39mint\u001b[39m \u001b[39m=\u001b[39m \u001b[39m32\u001b[39m) \u001b[39m-\u001b[39m\u001b[39m>\u001b[39m \u001b[39mbytes\u001b[39m:\n\u001b[0;32m      <a href='file:///e%3A/dev/youbit/youbit/ecc/ecc.py?line=4'>5</a>\u001b[0m     \u001b[39m\"\"\"Encodes a bytes object using reed-solomon error correction.\u001b[39;00m\n\u001b[0;32m      <a href='file:///e%3A/dev/youbit/youbit/ecc/ecc.py?line=5'>6</a>\u001b[0m \u001b[39m    Galois field is GF(256). Input can be larger than the Galois Field\u001b[39;00m\n\u001b[0;32m      <a href='file:///e%3A/dev/youbit/youbit/ecc/ecc.py?line=6'>7</a>\u001b[0m \u001b[39m    and will be properly chunked.\u001b[39;00m\n\u001b[1;32m   (...)\u001b[0m\n\u001b[0;32m     <a href='file:///e%3A/dev/youbit/youbit/ecc/ecc.py?line=13'>14</a>\u001b[0m \u001b[39m    :rtype: bytes\u001b[39;00m\n\u001b[0;32m     <a href='file:///e%3A/dev/youbit/youbit/ecc/ecc.py?line=14'>15</a>\u001b[0m \u001b[39m    \"\"\"\u001b[39;00m\n",
      "\u001b[1;31mModuleNotFoundError\u001b[0m: No module named 'creedsolo'"
     ]
    }
   ],
   "source": [
    "from youbit import _encode, util\n",
    "from pathlib import Path\n",
    "import time\n",
    "import numpy as np\n",
    "from youbit.ecc.creedsolo import RSCodec\n",
    "\n",
    "\n",
    "tik = time.time()\n",
    "arr = util.load_ndarray(Path('E:/biggie.mp4'))\n",
    "tok = time.time()\n",
    "print(tok-tik)\n",
    "\n",
    "tik = time.time()\n",
    "byty = arr.tobytes()\n",
    "tok = time.time()\n",
    "print(tok-tik)\n",
    "print(len(byty))\n",
    "print(type(byty))\n",
    "\n",
    "tik = time.time()\n",
    "eccd = RSCodec(32).encode(byty)\n",
    "tok = time.time()\n",
    "print(tok-tik)\n",
    "\n",
    "tik = time.time()\n",
    "arrr = np.frombuffer(byty, dtype=np.uint8)\n",
    "tok = time.time()\n",
    "print(tok-tik)\n",
    "\n",
    "print(np.array_equal(arr, arrr))"
   ]
  },
  {
   "cell_type": "code",
   "execution_count": 2,
   "metadata": {},
   "outputs": [
    {
     "ename": "TypeError",
     "evalue": "ecc_encode() missing 1 required positional argument: 'data'",
     "output_type": "error",
     "traceback": [
      "\u001b[1;31m---------------------------------------------------------------------------\u001b[0m",
      "\u001b[1;31mTypeError\u001b[0m                                 Traceback (most recent call last)",
      "\u001b[1;32me:\\dev\\youbit\\reedsolo.ipynb Cell 5'\u001b[0m in \u001b[0;36m<module>\u001b[1;34m\u001b[0m\n\u001b[0;32m      <a href='vscode-notebook-cell:/e%3A/dev/youbit/reedsolo.ipynb#ch0000004?line=0'>1</a>\u001b[0m \u001b[39mfrom\u001b[39;00m \u001b[39myoubit\u001b[39;00m \u001b[39mimport\u001b[39;00m encode, Encoder\n\u001b[0;32m      <a href='vscode-notebook-cell:/e%3A/dev/youbit/reedsolo.ipynb#ch0000004?line=1'>2</a>\u001b[0m \u001b[39mfrom\u001b[39;00m \u001b[39myoubit\u001b[39;00m \u001b[39mimport\u001b[39;00m _ecc\n\u001b[1;32m----> <a href='vscode-notebook-cell:/e%3A/dev/youbit/reedsolo.ipynb#ch0000004?line=3'>4</a>\u001b[0m _ecc\u001b[39m.\u001b[39;49mecc_encode()\n",
      "\u001b[1;31mTypeError\u001b[0m: ecc_encode() missing 1 required positional argument: 'data'"
     ]
    }
   ],
   "source": [
    "from youbit import encode, Encoder\n",
    "from youbit import _ecc\n",
    "\n",
    "_ecc.ecc_encode()"
   ]
  }
 ],
 "metadata": {
  "interpreter": {
   "hash": "3fa31eab484be4c52d8c446086d6f38aac6ab37ff6987e913234de178fd297be"
  },
  "kernelspec": {
   "display_name": "Python 3.9.9 ('YouBit-kGhUhAnr')",
   "language": "python",
   "name": "python3"
  },
  "language_info": {
   "codemirror_mode": {
    "name": "ipython",
    "version": 3
   },
   "file_extension": ".py",
   "mimetype": "text/x-python",
   "name": "python",
   "nbconvert_exporter": "python",
   "pygments_lexer": "ipython3",
   "version": "3.9.9"
  },
  "orig_nbformat": 4
 },
 "nbformat": 4,
 "nbformat_minor": 2
}
