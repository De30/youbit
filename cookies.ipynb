{
 "cells": [
  {
   "cell_type": "code",
   "execution_count": 23,
   "metadata": {},
   "outputs": [
    {
     "name": "stdout",
     "output_type": "stream",
     "text": [
      "----------------------------------------------------------\n",
      "CONSENT .youtube.be PENDING+494\n",
      "APISID .youtube.com _3gQcw5JlCCwpnUf/AvmdMsbnE7jCFbk5N\n",
      "CONSENT .youtube.com YES+yt.453767233.en+FX+299\n",
      "CONSISTENCY .youtube.com ALOGzFxwQfrUDMUdkSys3xVs6sSQXCfMsVlV8YFSXfambxN_7hZXCB6nWQpjmuBq__ssDBxizwShzg0SMdPLCxGb_1RkDrYH9rTbo9pPKy5WxMwX4llAuTjxkGbq2toFFgh5s3fS9jnUOH4oOhRubyG0JfGqIiCEOetV8PcMoK7k3h8AL8gg1ptoFjHFOzIPflBElTOmod4zL-VIzHww_XZIsGNH9fRGjgXqxYyMKGd5g4lKmv0LITO9kNWYi3ti_FrWSQ\n",
      "GPS .youtube.com 1\n",
      "HSID .youtube.com A3zO5PVKFcGC4rfOS\n",
      "LOGIN_INFO .youtube.com AFmmF2swRQIhAIFNHFdk-d0h76ZRAhQ8jtaCU27koNeNFMFaNnLiG-LAAiBsnv4676YQmABUFyL9ReD9ErTGRRCrJb3LfjVrq_V77w:QUQ3MjNmeFNWLTVzNFl2dk5ZN3BMQ0tDSVo2SHJSQ20yaEZobEV2c3dNekJSYzVzd1NMeDhwcTkza2NMS1JiWGh6VWhPRmxmZWpZSFFiUWtNQnpzZS1sYzNhcVd1LURYM3VnalRIU3BSSHFjUjdqNEVKcVVRR1ZTd2VkZThyM3JSbVJud0lFRHk5azNfdk85ZVNmUko4LV9Nd2pucENmbnJn\n",
      "PREF .youtube.com tz=Europe.Brussels&f6=40000000\n",
      "SAPISID .youtube.com XafLp6aJFRHkTC57/APTG0o62yULczjK5U\n",
      "SID .youtube.com LAju_mBFMDKREK1OdlJQPjXTqDcYjcmzvzueX9O7HhAgv-UUIkHMSFzZ4dcKlHmoUFNoKQ.\n",
      "SIDCC .youtube.com AJi4QfEBl3ij-3JT-J53ZEuIbAu4i_2xIzpwndil8pmqUVM_22kP0LGCUJ4PMtutX7KcLP5e0w\n",
      "SOCS .youtube.com CAISEwgDEgk0NTM3NjcyMzMaAmVuIAEaBgiA_JmVBg\n",
      "SSID .youtube.com AQPOETmAd3Bys_jYc\n",
      "VISITOR_INFO1_LIVE .youtube.com KYVzJ3KnBUk\n",
      "__Secure-1PAPISID .youtube.com XafLp6aJFRHkTC57/APTG0o62yULczjK5U\n",
      "__Secure-1PSID .youtube.com LAju_mBFMDKREK1OdlJQPjXTqDcYjcmzvzueX9O7HhAgv-UU9j01CPnZDJi3jmnJ30PNfQ.\n",
      "__Secure-3PAPISID .youtube.com XafLp6aJFRHkTC57/APTG0o62yULczjK5U\n",
      "__Secure-3PSID .youtube.com LAju_mBFMDKREK1OdlJQPjXTqDcYjcmzvzueX9O7HhAgv-UUWmIg3sjetp7BOzgkG6kkZQ.\n",
      "__Secure-3PSIDCC .youtube.com AJi4QfFFoUNpDyjSHa75pyK80jw-17fK0IX8aqyjqOIqxKPje_mX01kAhqZlmqlU8StHQv4E\n"
     ]
    }
   ],
   "source": [
    "import browser_cookie3\n",
    "\n",
    "# cj = browser_cookie3.chrome()\n",
    "\n",
    "# for i in cj:\n",
    "#     print(i) if 'youtube' in str(i) else None\n",
    "\n",
    "\n",
    "print('----------------------------------------------------------')\n",
    "\n",
    "cj = browser_cookie3.firefox()\n",
    "\n",
    "for i in cj:\n",
    "    if 'youtube' in i.domain:\n",
    "        print(i.name, i.domain, i.value)\n",
    "\n",
    "\n"
   ]
  }
 ],
 "metadata": {
  "kernelspec": {
   "display_name": "Python 3.9.9 ('YouBit-kGhUhAnr')",
   "language": "python",
   "name": "python3"
  },
  "language_info": {
   "codemirror_mode": {
    "name": "ipython",
    "version": 3
   },
   "file_extension": ".py",
   "mimetype": "text/x-python",
   "name": "python",
   "nbconvert_exporter": "python",
   "pygments_lexer": "ipython3",
   "version": "3.9.9"
  },
  "orig_nbformat": 4,
  "vscode": {
   "interpreter": {
    "hash": "3fa31eab484be4c52d8c446086d6f38aac6ab37ff6987e913234de178fd297be"
   }
  }
 },
 "nbformat": 4,
 "nbformat_minor": 2
}
